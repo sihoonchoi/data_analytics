{
 "cells": [
  {
   "cell_type": "markdown",
   "metadata": {
    "deletable": false,
    "nbgrader": {
     "grade": false,
     "locked": true,
     "solution": false
    }
   },
   "source": [
    "# Skill Check 1\n",
    "\n",
    "Welcome to the first assignment of the course! Every assignment in this course will consist of one part for skill check and the other part for open-ended questions (named as **homework**s). Through out this semester, you will consistently work with `Jupyter Notebooks`, which is a great tool to make use of and run `Python` interactively on your laptop/desktop. To launch `Jupyter Notebooks` on your device, you should first install **Anaconda** and you can find installation instructions [here](https://docs.anaconda.com/anaconda/install).\n",
    "\n",
    "If you are unfamiliar with `Jupyter Notebooks` you may wish to check out some tutorials. These notebooks are widely used in data science, so you can find a lot of useful information by \"googling\" (this is true of many topics in this course). For example, this [beginners tutorial](https://www.dataquest.io/blog/jupyter-notebook-tutorial/) is a good starting point. It is **highly recommended** that you learn to install and run `Jupyter Notebooks` on your own computer. However, for many Python beginners, especially those more familiar with MATLAB, the [Spyder](https://www.spyder-ide.org/) IDE might seem more familiar. You can always write/test code in Spyder (or any other IDE or text editor), then paste it into Jupyter cells. Similarly, you can download Jupyter notebooks as Python scripts (`File` $\\rightarrow$ `Download as` $\\rightarrow$ `Python (.py)`) and edit/run them in Spyder. If this feels like a lot of info at once, don't worry! The main point of these first exercises is just to get you used to the infrastructure we use in the course.\n",
    "\n",
    "To provide a unified and integrated workflow for submitting deliverables, we will utilize **Vocareum**, which is a cloud-based educational platform where you are right now. You **must submit all deliverables through Vocareum** and we will not accept deliverables via any channels besides Vocareum. Some students may not have even used `Jupyter Notebooks` before, so we know there is a learning curve. We hope that this first skill check will serve as tutorial for how to write scripts and submit your deliverables.\n",
    "\n",
    "Below, you will see code blocks with different colors. Blocks colored in dark gray are where your script will be auto-graded. If those blocks do not give you an error, you may move on to the next question. For code blocks with light gray, you only need to write your codes after `# Start your code here`. Other light gray blocks are not editable, and they are just for providing necessary variables. You may also want to add additional cells when you are working on this notebook. However, make sure that you remove them all and check that the whole script runs (`Kernel` $\\rightarrow$ `Restart & Run All`) without any errors before you submit it. Otherwise, you will recevie **0 credit**. Note that for skill checks there will be **no grade reviews**. You should already know your score when you submit the assignment due to the auto-grader, so if you have questions or see issues please let an instructor know at least 24 hours before the assignment is due.\n",
    "\n",
    "Since this is the first assignment, we will **grade it out of 50 points** (rather than 100). This means you can choose to only work some of the problems, or only some parts of all problems. The total grade cannot exceed 100%, but it is recommended that students at least attempt all problems to get practice for future assignments."
   ]
  },
  {
   "cell_type": "markdown",
   "metadata": {
    "deletable": false,
    "editable": false,
    "nbgrader": {
     "grade": false,
     "locked": true,
     "solution": false
    }
   },
   "source": [
    "## 1. Importing Packages (10 pts)\n",
    "\n",
    "In this problem, you will import the two widely-used `Python` packages introduced in the lectures. **Import `NumPy` with alias `np` (5 pts)** and **`Pandas` package with alias `pd` (5 pts).**"
   ]
  },
  {
   "cell_type": "code",
   "execution_count": 1,
   "metadata": {
    "collapsed": true
   },
   "outputs": [],
   "source": [
    "####################################################################\n",
    "# Start your code here\n",
    "import numpy as np\n",
    "import pandas as pd\n",
    "####################################################################"
   ]
  },
  {
   "cell_type": "code",
   "execution_count": 2,
   "metadata": {
    "collapsed": true,
    "deletable": false,
    "editable": false,
    "nbgrader": {
     "grade": true,
     "grade_id": "p1-numpy",
     "locked": true,
     "points": "5",
     "solution": false
    }
   },
   "outputs": [],
   "source": [
    "assert np.__version__"
   ]
  },
  {
   "cell_type": "code",
   "execution_count": 3,
   "metadata": {
    "collapsed": true,
    "deletable": false,
    "editable": false,
    "nbgrader": {
     "grade": true,
     "grade_id": "p1-pandas",
     "locked": true,
     "points": "5",
     "solution": false
    }
   },
   "outputs": [],
   "source": [
    "assert pd.__version__"
   ]
  },
  {
   "cell_type": "markdown",
   "metadata": {
    "deletable": false,
    "editable": false,
    "nbgrader": {
     "grade": false,
     "locked": true,
     "solution": false
    }
   },
   "source": [
    "## 2. Matrix-vector Multiplication (40 pts)\n",
    "\n",
    "Write a function `mulMatVec` that multiplies an arbitrary matrix (`matrix`) and vector (`vector`). The function should meet the following requirements:\n",
    "- return the output vector from multiplication **(20 pts)**\n",
    "- return the output as *numpy.ndarray* **(5 pts)**\n",
    "- handle any size and shape of matrices and vectors **(10 pts)**\n",
    "- take both *list* and *numpy.ndarray* as inputs **(5 pts)**\n",
    "\n",
    "You **should not** use any algebraic built-in functions besides simple scalar addition (`+`) and multiplication (`*`). We provided a test sample below. You may get full credit for the first requirement if the function works for this test run."
   ]
  },
  {
   "cell_type": "code",
   "execution_count": 4,
   "metadata": {
    "collapsed": true,
    "deletable": false,
    "editable": false,
    "nbgrader": {
     "grade": false,
     "locked": true,
     "solution": false
    }
   },
   "outputs": [],
   "source": [
    "matrix = np.array([[1, 2], [-4, 5]])\n",
    "vector = np.array([-2, 3])"
   ]
  },
  {
   "cell_type": "code",
   "execution_count": 5,
   "metadata": {
    "collapsed": true
   },
   "outputs": [],
   "source": [
    "def mulMatVec(matrix, vector):\n",
    "####################################################################\n",
    "# Start your code here\n",
    "    matrix = np.array(matrix)\n",
    "    vector = np.array(vector)\n",
    "    \n",
    "    result = np.zeros((matrix.shape[0],))\n",
    "    \n",
    "    for i in range(matrix.shape[0]):\n",
    "        for j in range(matrix.shape[1]):\n",
    "            result[i] += matrix[i][j] * vector[j]\n",
    "            \n",
    "    return result\n",
    "\n",
    "####################################################################"
   ]
  },
  {
   "cell_type": "code",
   "execution_count": 6,
   "metadata": {
    "deletable": false,
    "editable": false,
    "nbgrader": {
     "grade": true,
     "grade_id": "p2-output",
     "locked": true,
     "points": "20",
     "solution": false
    }
   },
   "outputs": [],
   "source": [
    "assert np.isclose(mulMatVec(matrix, vector), np.dot(matrix, vector)).all()"
   ]
  },
  {
   "cell_type": "code",
   "execution_count": 7,
   "metadata": {
    "collapsed": true,
    "deletable": false,
    "editable": false,
    "nbgrader": {
     "grade": true,
     "grade_id": "p2-outputtype",
     "locked": true,
     "points": "5",
     "solution": false
    }
   },
   "outputs": [],
   "source": [
    "assert type(mulMatVec(matrix, vector)) == np.ndarray"
   ]
  },
  {
   "cell_type": "code",
   "execution_count": 8,
   "metadata": {
    "collapsed": true,
    "deletable": false,
    "editable": false,
    "nbgrader": {
     "grade": true,
     "grade_id": "p2-anysize",
     "locked": true,
     "points": "10",
     "solution": false
    }
   },
   "outputs": [],
   "source": [
    "from numpy.random import rand, randint\n",
    "\n",
    "n = randint(2, 10)\n",
    "m = randint(2, 10)\n",
    "\n",
    "A = rand(n, m)\n",
    "b = rand(m)\n",
    "\n",
    "assert np.isclose(mulMatVec(A, b), np.dot(A, b)).all()"
   ]
  },
  {
   "cell_type": "code",
   "execution_count": 9,
   "metadata": {
    "collapsed": true,
    "deletable": false,
    "editable": false,
    "nbgrader": {
     "grade": true,
     "grade_id": "p2-inputtype",
     "locked": true,
     "points": "5",
     "solution": false
    }
   },
   "outputs": [],
   "source": [
    "C = A.tolist()\n",
    "d = b.tolist()\n",
    "\n",
    "assert np.isclose(mulMatVec(C, d), np.dot(C, d)).all()"
   ]
  },
  {
   "cell_type": "markdown",
   "metadata": {
    "deletable": false,
    "editable": false,
    "nbgrader": {
     "grade": false,
     "locked": true,
     "solution": false
    }
   },
   "source": [
    "## 3. Gram-Schmidt Process (50 pts)\n",
    "\n",
    "The matrix `v` defined below is a 4th-order Vandermonde matrix ranging from -1 to 1 with resolution of 25. Orthonormalize the matrix `v` via Gram-Schmidt process. Orthonormal means:\n",
    "\n",
    "- the $L_2$ norm of each column is 1 (25 pts)\n",
    "- the inner product between any 2 different columns is 0 (25 pts)\n",
    "\n",
    "The name of resulting orthonormalized matrix should be `ortho_v`, or you will receive **0 credit**."
   ]
  },
  {
   "cell_type": "code",
   "execution_count": 10,
   "metadata": {
    "deletable": false,
    "editable": false,
    "nbgrader": {
     "grade": false,
     "locked": true,
     "solution": false
    }
   },
   "outputs": [
    {
     "name": "stdout",
     "output_type": "stream",
     "text": [
      "[[ 1.00000000e+00 -1.00000000e+00  1.00000000e+00 -1.00000000e+00\n",
      "   1.00000000e+00]\n",
      " [ 1.00000000e+00 -9.16666667e-01  8.40277778e-01 -7.70254630e-01\n",
      "   7.06066744e-01]\n",
      " [ 1.00000000e+00 -8.33333333e-01  6.94444444e-01 -5.78703704e-01\n",
      "   4.82253086e-01]\n",
      " [ 1.00000000e+00 -7.50000000e-01  5.62500000e-01 -4.21875000e-01\n",
      "   3.16406250e-01]\n",
      " [ 1.00000000e+00 -6.66666667e-01  4.44444444e-01 -2.96296296e-01\n",
      "   1.97530864e-01]\n",
      " [ 1.00000000e+00 -5.83333333e-01  3.40277778e-01 -1.98495370e-01\n",
      "   1.15788966e-01]\n",
      " [ 1.00000000e+00 -5.00000000e-01  2.50000000e-01 -1.25000000e-01\n",
      "   6.25000000e-02]\n",
      " [ 1.00000000e+00 -4.16666667e-01  1.73611111e-01 -7.23379630e-02\n",
      "   3.01408179e-02]\n",
      " [ 1.00000000e+00 -3.33333333e-01  1.11111111e-01 -3.70370370e-02\n",
      "   1.23456790e-02]\n",
      " [ 1.00000000e+00 -2.50000000e-01  6.25000000e-02 -1.56250000e-02\n",
      "   3.90625000e-03]\n",
      " [ 1.00000000e+00 -1.66666667e-01  2.77777778e-02 -4.62962963e-03\n",
      "   7.71604938e-04]\n",
      " [ 1.00000000e+00 -8.33333333e-02  6.94444444e-03 -5.78703704e-04\n",
      "   4.82253086e-05]\n",
      " [ 1.00000000e+00  0.00000000e+00  0.00000000e+00  0.00000000e+00\n",
      "   0.00000000e+00]\n",
      " [ 1.00000000e+00  8.33333333e-02  6.94444444e-03  5.78703704e-04\n",
      "   4.82253086e-05]\n",
      " [ 1.00000000e+00  1.66666667e-01  2.77777778e-02  4.62962963e-03\n",
      "   7.71604938e-04]\n",
      " [ 1.00000000e+00  2.50000000e-01  6.25000000e-02  1.56250000e-02\n",
      "   3.90625000e-03]\n",
      " [ 1.00000000e+00  3.33333333e-01  1.11111111e-01  3.70370370e-02\n",
      "   1.23456790e-02]\n",
      " [ 1.00000000e+00  4.16666667e-01  1.73611111e-01  7.23379630e-02\n",
      "   3.01408179e-02]\n",
      " [ 1.00000000e+00  5.00000000e-01  2.50000000e-01  1.25000000e-01\n",
      "   6.25000000e-02]\n",
      " [ 1.00000000e+00  5.83333333e-01  3.40277778e-01  1.98495370e-01\n",
      "   1.15788966e-01]\n",
      " [ 1.00000000e+00  6.66666667e-01  4.44444444e-01  2.96296296e-01\n",
      "   1.97530864e-01]\n",
      " [ 1.00000000e+00  7.50000000e-01  5.62500000e-01  4.21875000e-01\n",
      "   3.16406250e-01]\n",
      " [ 1.00000000e+00  8.33333333e-01  6.94444444e-01  5.78703704e-01\n",
      "   4.82253086e-01]\n",
      " [ 1.00000000e+00  9.16666667e-01  8.40277778e-01  7.70254630e-01\n",
      "   7.06066744e-01]\n",
      " [ 1.00000000e+00  1.00000000e+00  1.00000000e+00  1.00000000e+00\n",
      "   1.00000000e+00]]\n"
     ]
    }
   ],
   "source": [
    "xi = np.linspace(-1, 1, 25)\n",
    "xi = xi.reshape(-1, 1)\n",
    "v = np.hstack((xi**0, xi**1, xi**2, xi**3, xi**4))\n",
    "\n",
    "print(v)"
   ]
  },
  {
   "cell_type": "code",
   "execution_count": 11,
   "metadata": {},
   "outputs": [],
   "source": [
    "####################################################################\n",
    "# Start your code here\n",
    "e1 = v[:, 0]\n",
    "\n",
    "e2 = v[:, 1] - np.dot(e1, v[:, 1]) / np.dot(e1, e1) * e1\n",
    "\n",
    "e3 = v[:, 2] - np.dot(e1, v[:, 2]) / np.dot(e1, e1) * e1 - np.dot(e2, v[:, 2]) / np.dot(e2, e2) * e2\n",
    "\n",
    "e4 = v[:, 3] - np.dot(e1, v[:, 3]) / np.dot(e1, e1) * e1 - np.dot(e2, v[:, 3]) / np.dot(e2, e2) * e2 - np.dot(e3, v[:, 3]) / np.dot(e3, e3) * e3\n",
    "\n",
    "e5 = v[:, 4] - np.dot(e1, v[:, 4]) / np.dot(e1, e1) * e1 - np.dot(e2, v[:, 4]) / np.dot(e2, e2) * e2 - np.dot(e3, v[:, 4]) / np.dot(e3, e3) * e3 - np.dot(e4, v[:, 4]) / np.dot(e4, e4) * e4\n",
    "\n",
    "ortho_v = np.hstack((e1.reshape(-1, 1) / np.linalg.norm(e1), e2.reshape(-1, 1) / np.linalg.norm(e2) , e3.reshape(-1, 1) / np.linalg.norm(e3), e4.reshape(-1, 1) / np.linalg.norm(e4), e5.reshape(-1, 1) / np.linalg.norm(e5)))\n",
    "####################################################################"
   ]
  },
  {
   "cell_type": "code",
   "execution_count": 12,
   "metadata": {
    "deletable": false,
    "editable": false,
    "nbgrader": {
     "grade": true,
     "grade_id": "p3-norm",
     "locked": true,
     "points": "25",
     "solution": false
    }
   },
   "outputs": [],
   "source": [
    "ans = True\n",
    "\n",
    "for i in range(5):\n",
    "    ans = ans and np.isclose(np.linalg.norm(ortho_v[:, i], 2), 1)\n",
    "\n",
    "assert ans"
   ]
  },
  {
   "cell_type": "code",
   "execution_count": 13,
   "metadata": {
    "deletable": false,
    "editable": false,
    "nbgrader": {
     "grade": true,
     "grade_id": "p3-innerproduct",
     "locked": true,
     "points": "25",
     "solution": false
    }
   },
   "outputs": [],
   "source": [
    "ans = True\n",
    "\n",
    "A = np.dot(ortho_v, ortho_v.T)\n",
    "\n",
    "for i in range(4):\n",
    "    for j in range(i+1, 5):\n",
    "        ans = ans and np.isclose(np.dot(ortho_v[:, i], ortho_v[:, j]), 0)\n",
    "\n",
    "assert ans"
   ]
  },
  {
   "cell_type": "markdown",
   "metadata": {
    "deletable": false,
    "editable": false,
    "nbgrader": {
     "grade": false,
     "locked": true,
     "solution": false
    }
   },
   "source": [
    "## Submission Instruction\n",
    "\n",
    "When you are finished, make sure to save this notebook. You can either click the disk image in the upper left of the screen or **Save and Checkpoint** button under the **File** tab. Then, click the blue **Submit** button. The system will let you know whether it is successfully submitted."
   ]
  }
 ],
 "metadata": {
  "celltoolbar": "Edit Metadata",
  "kernelspec": {
   "display_name": "Python 3 [3.7]",
   "language": "python",
   "name": "python3"
  },
  "language_info": {
   "codemirror_mode": {
    "name": "ipython",
    "version": 3
   },
   "file_extension": ".py",
   "mimetype": "text/x-python",
   "name": "python",
   "nbconvert_exporter": "python",
   "pygments_lexer": "ipython3",
   "version": "3.7.5"
  }
 },
 "nbformat": 4,
 "nbformat_minor": 2
}
