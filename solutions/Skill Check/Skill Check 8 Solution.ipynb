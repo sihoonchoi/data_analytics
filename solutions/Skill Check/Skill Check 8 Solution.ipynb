{
 "cells": [
  {
   "cell_type": "markdown",
   "metadata": {
    "nbgrader": {
     "grade": false,
     "locked": true,
     "solution": false
    }
   },
   "source": [
    "# Skill Check 8\n",
    "\n",
    "The block below imports the necessary packages."
   ]
  },
  {
   "cell_type": "code",
   "execution_count": 1,
   "metadata": {
    "collapsed": true,
    "nbgrader": {
     "grade": false,
     "locked": true,
     "solution": false
    }
   },
   "outputs": [],
   "source": [
    "import numpy as np\n",
    "import pandas as pd\n",
    "import pylab as plt"
   ]
  },
  {
   "cell_type": "markdown",
   "metadata": {
    "nbgrader": {
     "grade": false,
     "locked": true,
     "solution": false
    }
   },
   "source": [
    "## 1. Data Organization (50 pts)\n",
    "\n",
    "### 1a: Dow Dataset (5 pts)\n",
    "\n",
    "Read in the `impurity_dataset-training.xlsx` as a `pandas.DataFrame` with a variable name `df`."
   ]
  },
  {
   "cell_type": "code",
   "execution_count": 2,
   "metadata": {
    "collapsed": true
   },
   "outputs": [],
   "source": [
    "########################################\n",
    "# Start your code here\n",
    "df = pd.read_excel('impurity_dataset-training.xlsx')\n",
    "########################################"
   ]
  },
  {
   "cell_type": "code",
   "execution_count": 3,
   "metadata": {
    "collapsed": true,
    "nbgrader": {
     "grade": true,
     "grade_id": "p1-1",
     "locked": true,
     "points": "5",
     "solution": false
    }
   },
   "outputs": [],
   "source": [
    "assert type(df) == pd.core.frame.DataFrame\n",
    "assert df.shape == (10703, 46)\n",
    "assert np.isclose(np.linalg.norm(df[df.columns[1:]].loc[1]), 3381.2181210675867)"
   ]
  },
  {
   "cell_type": "markdown",
   "metadata": {
    "nbgrader": {
     "grade": false,
     "locked": true,
     "solution": false
    }
   },
   "source": [
    "### 1b: Time data (15 pts)\n",
    "\n",
    "Create a subset of the Dow dataset `df_time` containing only data from Dec. 5 - Dec. 12, 2015. The data should only include columns from `x1` to `x12`.\n",
    "\n",
    "**Hint:** The problem is much easier if you index by the date."
   ]
  },
  {
   "cell_type": "code",
   "execution_count": 4,
   "metadata": {
    "collapsed": true
   },
   "outputs": [],
   "source": [
    "########################################\n",
    "# Start your code here\n",
    "df_time = df.set_index('Date')['2015-12-05':'2015-12-12']\n",
    "df_time = df_time[df_time.columns[:12]]\n",
    "########################################"
   ]
  },
  {
   "cell_type": "code",
   "execution_count": 5,
   "metadata": {
    "collapsed": true,
    "nbgrader": {
     "grade": true,
     "grade_id": "p1-2",
     "locked": true,
     "points": "15",
     "solution": false
    }
   },
   "outputs": [],
   "source": [
    "assert df_time.shape == (192, 12), \"wrong df_time\"\n",
    "assert np.isclose(np.linalg.norm(df_time.iloc[4]), 2910.9186137459646), \"wrong df_time\""
   ]
  },
  {
   "cell_type": "markdown",
   "metadata": {
    "nbgrader": {
     "grade": false,
     "locked": true,
     "solution": false
    }
   },
   "source": [
    "### 1c: Removing inconsistent null values (20 pts)\n",
    "\n",
    "Create a dataframe of all features in the Dow dataset called `df_no_express` that does not contain any expression marks, but still includes blank/null values. Expression marks should be replaced with 0.0. `df_no_express` should only include columns from `x1` to `x40` and the column order should not be changed."
   ]
  },
  {
   "cell_type": "code",
   "execution_count": 6,
   "metadata": {},
   "outputs": [],
   "source": [
    "########################################\n",
    "# Start your code here\n",
    "df_no_express = df[df.columns[1:41]].replace('!', 0.0)\n",
    "########################################"
   ]
  },
  {
   "cell_type": "code",
   "execution_count": 7,
   "metadata": {
    "nbgrader": {
     "grade": true,
     "grade_id": "p1-3",
     "locked": true,
     "points": "20",
     "solution": false
    }
   },
   "outputs": [
    {
     "name": "stderr",
     "output_type": "stream",
     "text": [
      "/usr/lib/python3.7/site-packages/ipykernel_launcher.py:1: FutureWarning: elementwise comparison failed; returning scalar instead, but in the future will perform elementwise comparison\n",
      "  \"\"\"Entry point for launching an IPython kernel.\n"
     ]
    }
   ],
   "source": [
    "assert ('!' in df_no_express.values) == False, 'expression marks not eliminated'\n",
    "assert df_no_express.columns[1] == 'x2:Primary Column Tails Flow', 'wrong columns'\n",
    "assert df_no_express.shape == (10703, 40), 'wrong columns'"
   ]
  },
  {
   "cell_type": "markdown",
   "metadata": {
    "nbgrader": {
     "grade": false,
     "locked": true,
     "solution": false
    }
   },
   "source": [
    "### 1d: Mean and variance of features (10 pts)\n",
    "\n",
    "Save the mean and variance of each feature in `df_no_express` to `mean_no_express` (numpy array) and `var_no_express` (numpy array), respectively."
   ]
  },
  {
   "cell_type": "code",
   "execution_count": 8,
   "metadata": {},
   "outputs": [],
   "source": [
    "########################################\n",
    "# Start your code here\n",
    "mean_no_express = df_no_express.mean(axis = 0)\n",
    "var_no_express = df_no_express.var(axis = 0)\n",
    "########################################"
   ]
  },
  {
   "cell_type": "code",
   "execution_count": 9,
   "metadata": {
    "collapsed": true,
    "nbgrader": {
     "grade": true,
     "grade_id": "p1-4",
     "locked": true,
     "points": "10",
     "solution": false
    }
   },
   "outputs": [],
   "source": [
    "assert len(mean_no_express) == 40\n",
    "assert len(var_no_express) == 40\n",
    "assert np.isclose(np.linalg.norm(mean_no_express) * np.linalg.norm(var_no_express), 1857023957.6543484)"
   ]
  },
  {
   "cell_type": "markdown",
   "metadata": {
    "nbgrader": {
     "grade": false,
     "locked": true,
     "solution": false
    }
   },
   "source": [
    "## 2. APIs (50 pts)\n",
    "\n",
    "### 2a: Get CID (15 pts)\n",
    "\n",
    "Write a function `getCID` that takes the name of a compound `name` as an argument and uses the PubChem RESTful API to return its CID. The data type of returned value should be **integer**."
   ]
  },
  {
   "cell_type": "code",
   "execution_count": 10,
   "metadata": {
    "collapsed": true,
    "nbgrader": {
     "grade": false,
     "locked": true,
     "solution": false
    }
   },
   "outputs": [],
   "source": [
    "import requests"
   ]
  },
  {
   "cell_type": "code",
   "execution_count": 11,
   "metadata": {
    "collapsed": true
   },
   "outputs": [],
   "source": [
    "def getCID(name):\n",
    "########################################\n",
    "# Start your code here\n",
    "    r = requests.get('https://pubchem.ncbi.nlm.nih.gov/rest/pug/compound/name/{}/cids/TXT'.format(name))\n",
    "    return int(r.text)\n",
    "########################################"
   ]
  },
  {
   "cell_type": "code",
   "execution_count": 12,
   "metadata": {
    "nbgrader": {
     "grade": true,
     "grade_id": "p2-1",
     "locked": true,
     "points": "15",
     "solution": false
    }
   },
   "outputs": [],
   "source": [
    "assert getCID('methanol') == 887, \"test run #1 failed\"\n",
    "assert getCID('ethanol') == 702, \"test run #2 failed\"\n",
    "assert getCID('1,5-heptadiene') == 5364394, \"test run #3 failed\""
   ]
  },
  {
   "cell_type": "markdown",
   "metadata": {
    "nbgrader": {
     "grade": false,
     "locked": true,
     "solution": false
    }
   },
   "source": [
    "### 2b: Get SMILES (15 pts)\n",
    "\n",
    "Write a function `getSMILES` that takes the CAS number of a compound (`CAS`, string) as an argument and uses the PubChem RESTful API to extract its record as a JSON, and then extract the SMILES notation (string) from this JSON record."
   ]
  },
  {
   "cell_type": "code",
   "execution_count": 13,
   "metadata": {
    "collapsed": true,
    "nbgrader": {
     "grade": false,
     "locked": true,
     "solution": false
    }
   },
   "outputs": [],
   "source": [
    "import json"
   ]
  },
  {
   "cell_type": "code",
   "execution_count": 14,
   "metadata": {
    "collapsed": true
   },
   "outputs": [],
   "source": [
    "def getSMILES(CAS):\n",
    "########################################\n",
    "# Start your code here\n",
    "    r = requests.get('https://pubchem.ncbi.nlm.nih.gov/rest/pug/compound/name/{}/record/json'.format(CAS))\n",
    "    chem_json = json.loads(r.text)\n",
    "    \n",
    "    smiles = chem_json['PC_Compounds'][0]['props'][18]['value']['sval']\n",
    "    \n",
    "    return smiles\n",
    "########################################"
   ]
  },
  {
   "cell_type": "code",
   "execution_count": 15,
   "metadata": {
    "nbgrader": {
     "grade": true,
     "grade_id": "p2-2",
     "locked": true,
     "points": "15",
     "solution": false
    }
   },
   "outputs": [],
   "source": [
    "assert getSMILES('108-95-2') == 'C1=CC=C(C=C1)O', 'test run #1 failed'\n",
    "assert getSMILES('64-17-5') == 'CCO', 'test run #2 failed'\n",
    "assert getSMILES('627-20-3') == 'CCC=CC', 'test run #3 faield'"
   ]
  },
  {
   "cell_type": "markdown",
   "metadata": {
    "nbgrader": {
     "grade": false,
     "locked": true,
     "solution": false
    }
   },
   "source": [
    "### 2c: Count Bonds (20 pts)\n",
    "\n",
    "Write a function `countBonds` that takes an arbitrary chemical name or CAS number (`name`, string), uses the PubChem RESTful API, and returns the number of C-H bonds in the compound."
   ]
  },
  {
   "cell_type": "code",
   "execution_count": 16,
   "metadata": {
    "collapsed": true
   },
   "outputs": [],
   "source": [
    "def countBonds(name):\n",
    "########################################\n",
    "# Start your code here\n",
    "    r = requests.get('https://pubchem.ncbi.nlm.nih.gov/rest/pug/compound/name/{}/record/json'.format(name))\n",
    "    chem_json = json.loads(r.text)\n",
    "    \n",
    "    bonds = chem_json['PC_Compounds'][0]['bonds']\n",
    "    aid_1 = np.array(bonds['aid1']).reshape(-1, 1)\n",
    "    aid_2 = np.array(bonds['aid2']).reshape(-1, 1)\n",
    "    \n",
    "    bond_pair = np.append(aid_1, aid_2, axis = 1)\n",
    "    \n",
    "    atoms = chem_json['PC_Compounds'][0]['atoms']\n",
    "    \n",
    "    count = 0\n",
    "    for pair in bond_pair:\n",
    "        if atoms['element'][pair[0] - 1] == 6 and atoms['element'][pair[1] - 1] == 1:\n",
    "            count += 1\n",
    "        elif atoms['element'][pair[0] - 1] == 1 and atoms['element'][pair[1] - 1] == 6:\n",
    "            count += 1\n",
    "    \n",
    "    return count\n",
    "########################################"
   ]
  },
  {
   "cell_type": "code",
   "execution_count": 17,
   "metadata": {
    "collapsed": true,
    "nbgrader": {
     "grade": true,
     "grade_id": "p2-3",
     "locked": true,
     "points": "20",
     "solution": false
    }
   },
   "outputs": [],
   "source": [
    "assert countBonds('ethanol') == 5, \"test run #1 failed\"\n",
    "assert countBonds('water') == 0, \"test run #2 failed\"\n",
    "assert countBonds('108-95-2') == 5, \"test run #3 failed\""
   ]
  }
 ],
 "metadata": {
  "kernelspec": {
   "display_name": "Python 3 [3.7]",
   "language": "python",
   "name": "python3"
  },
  "language_info": {
   "codemirror_mode": {
    "name": "ipython",
    "version": 3
   },
   "file_extension": ".py",
   "mimetype": "text/x-python",
   "name": "python",
   "nbconvert_exporter": "python",
   "pygments_lexer": "ipython3",
   "version": "3.7.5"
  }
 },
 "nbformat": 4,
 "nbformat_minor": 2
}
