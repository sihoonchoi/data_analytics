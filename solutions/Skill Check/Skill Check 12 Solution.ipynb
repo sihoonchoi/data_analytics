{
 "cells": [
  {
   "cell_type": "markdown",
   "metadata": {
    "nbgrader": {
     "grade": false,
     "locked": true,
     "solution": false
    }
   },
   "source": [
    "# Skill Check 12\n",
    "\n",
    "Due to the restricted amount of time (Thanksgiving and the end of the semester are coming!), this Skill Check includes a few open-ended questions that will be manually graded by instructors. No Homework will be released this week, which means no more peer reviews!\n",
    "\n",
    "The block below imports the necessary packages. We have also turned off some \"simple\" warnings to make things less confusing (you can read more about warning control [here](https://docs.python.org/3/library/warnings.html))."
   ]
  },
  {
   "cell_type": "code",
   "execution_count": null,
   "metadata": {
    "collapsed": true,
    "nbgrader": {
     "grade": false,
     "locked": true,
     "solution": false
    }
   },
   "outputs": [],
   "source": [
    "import numpy as np\n",
    "import pandas as pd\n",
    "import pylab as plt\n",
    "import warnings\n",
    "\n",
    "warnings.simplefilter('ignore')"
   ]
  },
  {
   "cell_type": "markdown",
   "metadata": {
    "nbgrader": {
     "grade": false,
     "locked": true,
     "solution": false
    }
   },
   "source": [
    "In this assignment, you will play with the Dow dataset."
   ]
  },
  {
   "cell_type": "code",
   "execution_count": null,
   "metadata": {
    "collapsed": true,
    "nbgrader": {
     "grade": false,
     "locked": true,
     "solution": false
    }
   },
   "outputs": [],
   "source": [
    "df = pd.read_excel('impurity_dataset-training.xlsx')"
   ]
  },
  {
   "cell_type": "markdown",
   "metadata": {
    "nbgrader": {
     "grade": false,
     "locked": true,
     "solution": false
    }
   },
   "source": [
    "## 1. ARIMA Model (100 pts)\n",
    "\n",
    "In this problem, you will construct an ARIMA model of the Dow dataset.\n",
    "\n",
    "### 1a: Preprocessing (20 pts)\n",
    "\n",
    "First of all, let's go through the cleaning steps and obtain the time series data from the Dow dataset.\n",
    "\n",
    "- Extract `Date` and `y:Impurity` columns from `df`.\n",
    "- Convert the `Date` column to `DateTime` datatype.\n",
    "- Convert the index of the dataframe to `Date`.\n",
    "\n",
    "The resulting dataframe should be named `dow_time`."
   ]
  },
  {
   "cell_type": "code",
   "execution_count": null,
   "metadata": {
    "collapsed": true
   },
   "outputs": [],
   "source": [
    "########################################\n",
    "# Start your code here\n",
    "dow_time = df[['Date', 'y:Impurity']]\n",
    "dow_time.loc[:, 'Date'] = pd.to_datetime(dow_time['Date'])\n",
    "dow_time = dow_time.set_index('Date')\n",
    "########################################"
   ]
  },
  {
   "cell_type": "code",
   "execution_count": null,
   "metadata": {
    "collapsed": true,
    "nbgrader": {
     "grade": true,
     "grade_id": "p1-1",
     "locked": true,
     "points": "20",
     "solution": false
    }
   },
   "outputs": [],
   "source": [
    "assert type(dow_time.index[100]) == pd._libs.tslibs.timestamps.Timestamp\n",
    "assert dow_time.shape == (10703, 1)\n",
    "assert np.isclose(dow_time['y:Impurity'].sum(), 29049.039824699998)"
   ]
  },
  {
   "cell_type": "markdown",
   "metadata": {
    "nbgrader": {
     "grade": false,
     "locked": true,
     "solution": false
    }
   },
   "source": [
    "### 1b: Moving Average (20 pts)\n",
    "\n",
    "Compute the moving average `moving_avg` of `dow_time` with a window size of 24 hours."
   ]
  },
  {
   "cell_type": "code",
   "execution_count": null,
   "metadata": {
    "collapsed": true
   },
   "outputs": [],
   "source": [
    "########################################\n",
    "# Start your code here\n",
    "window = 24\n",
    "\n",
    "rolling_df = dow_time.rolling(window)\n",
    "moving_avg = rolling_df.mean()\n",
    "########################################"
   ]
  },
  {
   "cell_type": "code",
   "execution_count": null,
   "metadata": {
    "collapsed": true,
    "nbgrader": {
     "grade": true,
     "grade_id": "p1-2",
     "locked": true,
     "points": "20",
     "solution": false
    }
   },
   "outputs": [],
   "source": [
    "assert np.isnan(moving_avg.iloc[22].values[0]), \"wrong window size\"\n",
    "assert not np.isnan(moving_avg.iloc[23].values[0]), \"wrong window size\"\n",
    "assert np.isclose(moving_avg.sum(), 28993.158206), \"wrong moving average\""
   ]
  },
  {
   "cell_type": "markdown",
   "metadata": {
    "nbgrader": {
     "grade": false,
     "locked": true,
     "solution": false
    }
   },
   "source": [
    "### 1c: Plot moving average (5 pts)\n",
    "\n",
    "Plot the resulting moving average. The horizontal axis should represent the dates and the vertical axis should represent the moving average."
   ]
  },
  {
   "cell_type": "code",
   "execution_count": null,
   "metadata": {
    "collapsed": true
   },
   "outputs": [],
   "source": [
    "########################################\n",
    "# Start your code here\n",
    "fig, ax = plt.subplots(figsize = (10, 4.5), dpi = 150)\n",
    "moving_avg.plot(ax = ax);\n",
    "########################################"
   ]
  },
  {
   "cell_type": "markdown",
   "metadata": {
    "nbgrader": {
     "grade": false,
     "locked": true,
     "solution": false
    }
   },
   "source": [
    "### 1d: Differencing (10 pts)\n",
    "\n",
    "Apply differencing between a point and the prior point to `dow_time` and save the result to `diff`. By doing so, you can determine `d` of the ARIMA model as 1. `diff` should not contain any null values."
   ]
  },
  {
   "cell_type": "code",
   "execution_count": null,
   "metadata": {
    "collapsed": true
   },
   "outputs": [],
   "source": [
    "########################################\n",
    "# Start your code here\n",
    "diff = dow_time - dow_time.shift(1)\n",
    "diff = diff[1:]\n",
    "########################################"
   ]
  },
  {
   "cell_type": "code",
   "execution_count": null,
   "metadata": {
    "collapsed": true,
    "nbgrader": {
     "grade": true,
     "grade_id": "p1-4",
     "locked": true,
     "points": "10",
     "solution": false
    }
   },
   "outputs": [],
   "source": [
    "from statsmodels.tsa.stattools import adfuller\n",
    "\n",
    "assert 1 - adfuller(diff)[1]"
   ]
  },
  {
   "cell_type": "markdown",
   "metadata": {
    "nbgrader": {
     "grade": false,
     "locked": true,
     "solution": false
    }
   },
   "source": [
    "### 1e: Autocorrelation plot (5 pts)\n",
    "\n",
    "Show the autocorrelation plot for `diff`."
   ]
  },
  {
   "cell_type": "code",
   "execution_count": null,
   "metadata": {
    "collapsed": true
   },
   "outputs": [],
   "source": [
    "########################################\n",
    "# Start your code here\n",
    "from statsmodels.graphics.tsaplots import plot_acf\n",
    "\n",
    "fig, ax = plt.subplots(figsize = (10, 4.5), dpi = 150)\n",
    "_ = plot_acf(diff, ax = ax);\n",
    "########################################"
   ]
  },
  {
   "cell_type": "markdown",
   "metadata": {},
   "source": [
    "### 1f: Data Split (15 pts)\n",
    "\n",
    "Split the `y:Impurity` data (not the smoothed version) into a training and test set. The first 75% of the data should be the training set and you will use a forecast to predict the next 25%, so you should not use random selection. Name the training set as `past` and test set as `future`."
   ]
  },
  {
   "cell_type": "code",
   "execution_count": null,
   "metadata": {
    "collapsed": true
   },
   "outputs": [],
   "source": [
    "########################################\n",
    "# Start your code here\n",
    "hours = dow_time.shape[0]\n",
    "\n",
    "train_ratio = 0.75\n",
    "N_train = int(train_ratio * hours)\n",
    "N_test = hours - N_train\n",
    "\n",
    "past = dow_time[:N_train]\n",
    "future = dow_time[-N_test:]\n",
    "########################################"
   ]
  },
  {
   "cell_type": "code",
   "execution_count": null,
   "metadata": {
    "collapsed": true,
    "nbgrader": {
     "grade": true,
     "grade_id": "p1-6",
     "locked": true,
     "points": "15",
     "solution": false
    }
   },
   "outputs": [],
   "source": [
    "assert past.shape == (8027, 1), \"wrong training size\"\n",
    "assert np.isclose(past.mean(), 2.8494), \"wrong training set\"\n",
    "assert future.shape == (2676, 1), \"wrong test size\"\n",
    "assert np.isclose(future.mean(), 2.30826), \"wrong test set\""
   ]
  },
  {
   "cell_type": "markdown",
   "metadata": {
    "nbgrader": {
     "grade": false,
     "locked": true,
     "solution": false
    }
   },
   "source": [
    "### 1g: Computing BIC (15 pts)\n",
    "\n",
    "With all combinations of `d`, `p`, and `q` provided below, train an ARIMA model with `past` and calculate the BIC of the model. Report the optimal `p` and `q` (`p_opt` and `q_opt`) that give the lowest BIC.\n",
    "\n",
    "- `d`: 1\n",
    "- `p`: 2, 3, and 4\n",
    "- `q`: 1 and 2\n",
    "\n",
    "**Note:** You an safely ignore any \"ValueWarnings\" that arise due to missing frequency information."
   ]
  },
  {
   "cell_type": "code",
   "execution_count": null,
   "metadata": {
    "collapsed": true
   },
   "outputs": [],
   "source": [
    "########################################\n",
    "# Start your code here\n",
    "from statsmodels.tsa.arima_model import ARIMA\n",
    "\n",
    "d = 1\n",
    "bic = 0\n",
    "\n",
    "for q in [1, 2]:\n",
    "    for p in [2, 3, 4]:\n",
    "        model = ARIMA(past, order = (p, d, q))\n",
    "        model_fit = model.fit(disp = 0)\n",
    "        if model_fit.bic < bic:\n",
    "            bic = model_fit.bic\n",
    "            p_opt = p\n",
    "            q_opt = q\n",
    "########################################"
   ]
  },
  {
   "cell_type": "code",
   "execution_count": null,
   "metadata": {
    "collapsed": true,
    "nbgrader": {
     "grade": true,
     "grade_id": "p1-7",
     "locked": true,
     "points": "15",
     "solution": false
    }
   },
   "outputs": [],
   "source": [
    "assert np.isclose(ARIMA(past, order = (p_opt, d, q_opt)).fit(disp = 0).bic, -19312.086794490246)"
   ]
  },
  {
   "cell_type": "markdown",
   "metadata": {
    "nbgrader": {
     "grade": false,
     "locked": true,
     "solution": false
    }
   },
   "source": [
    "### 1h: Past Prediction (5 pts)\n",
    "\n",
    "Using the optimal ARIMA model obtained from **1f**, plot the past data along with the past prediction."
   ]
  },
  {
   "cell_type": "code",
   "execution_count": null,
   "metadata": {
    "collapsed": true
   },
   "outputs": [],
   "source": [
    "########################################\n",
    "# Start your code here\n",
    "fig, ax = plt.subplots(figsize = (10, 4.5), dpi = 150)\n",
    "ARIMA(past, order = (p_opt, d, q_opt)).fit(disp = 0).plot_predict(dynamic = False, ax = ax);\n",
    "########################################"
   ]
  },
  {
   "cell_type": "markdown",
   "metadata": {},
   "source": [
    "### 1i: Forecast (5 pts)\n",
    "\n",
    "Plot the forecast of the future data data along with the past, future data, and 95% confidence bounds."
   ]
  },
  {
   "cell_type": "code",
   "execution_count": null,
   "metadata": {
    "collapsed": true
   },
   "outputs": [],
   "source": [
    "########################################\n",
    "# Start your code here\n",
    "fc, se, conf = ARIMA(past, order = (p_opt, d, q_opt)).fit(disp = 0).forecast(N_test, alpha = 0.05)\n",
    "\n",
    "fc_series = pd.Series(fc, index = future.index)\n",
    "lower_series = pd.Series(conf[:, 0], index = future.index)\n",
    "upper_series = pd.Series(conf[:, 1], index = future.index)\n",
    "\n",
    "fig, ax = plt.subplots(figsize = (10, 4.5), dpi = 150)\n",
    "\n",
    "ax.plot(past, label = 'Training Data')\n",
    "ax.plot(future, label = 'Test Data')\n",
    "ax.plot(fc_series, label = 'Forecast')\n",
    "ax.fill_between(lower_series.index, lower_series, upper_series, alpha=.15)\n",
    "ax.set_title('Forecast vs Actual Data')\n",
    "ax.legend(loc='upper left', fontsize = 8);\n",
    "########################################"
   ]
  }
 ],
 "metadata": {
  "kernelspec": {
   "display_name": "Python 3",
   "language": "python",
   "name": "python3"
  },
  "language_info": {
   "codemirror_mode": {
    "name": "ipython",
    "version": 3
   },
   "file_extension": ".py",
   "mimetype": "text/x-python",
   "name": "python",
   "nbconvert_exporter": "python",
   "pygments_lexer": "ipython3",
   "version": "3.8.8"
  }
 },
 "nbformat": 4,
 "nbformat_minor": 2
}
