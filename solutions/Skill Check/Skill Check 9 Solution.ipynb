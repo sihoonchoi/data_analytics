{
 "cells": [
  {
   "cell_type": "markdown",
   "metadata": {
    "nbgrader": {
     "grade": false,
     "locked": true,
     "solution": false
    }
   },
   "source": [
    "# Skill Check 9\n",
    "\n",
    "The block below imports the necessary packages."
   ]
  },
  {
   "cell_type": "code",
   "execution_count": 1,
   "metadata": {
    "collapsed": true,
    "nbgrader": {
     "grade": false,
     "locked": true,
     "solution": false
    }
   },
   "outputs": [],
   "source": [
    "import numpy as np\n",
    "import pandas as pd"
   ]
  },
  {
   "cell_type": "markdown",
   "metadata": {
    "nbgrader": {
     "grade": false,
     "locked": true,
     "solution": false
    }
   },
   "source": [
    "## 1. MNIST Dataset (60 pts)\n",
    "\n",
    "### 1a: Reading in the dataset (20 pts)\n",
    "\n",
    "Load the MNIST data from `sklearn.datasets`. Save the pixel data to `X_mnist` (numpy.array) and the corresponding numbers to `y_mnist` (numpy.array)."
   ]
  },
  {
   "cell_type": "code",
   "execution_count": 2,
   "metadata": {},
   "outputs": [],
   "source": [
    "########################################\n",
    "# Start your code here\n",
    "from sklearn.datasets import load_digits\n",
    "\n",
    "digits = load_digits()\n",
    "X_mnist = np.array(digits.data)\n",
    "y_mnist = np.array(digits.target)\n",
    "########################################"
   ]
  },
  {
   "cell_type": "code",
   "execution_count": 3,
   "metadata": {
    "collapsed": true,
    "nbgrader": {
     "grade": true,
     "grade_id": "p1-1",
     "locked": true,
     "points": "20",
     "solution": false
    }
   },
   "outputs": [],
   "source": [
    "assert X_mnist.shape == (1797, 64), \"Wrong data\"\n",
    "assert y_mnist.shape == (1797,), \"Wrong data\"\n",
    "assert X_mnist[0].sum() == 294.0, \"Wrong data\"\n",
    "assert np.isclose(X_mnist[y_mnist == 9].mean(), 4.895138888888889), \"Wrong data\""
   ]
  },
  {
   "cell_type": "markdown",
   "metadata": {
    "nbgrader": {
     "grade": false,
     "locked": true,
     "solution": false
    }
   },
   "source": [
    "### 1b: Correlation matrix (20 pts)\n",
    "\n",
    "Create the correlation matrix `corr` for the 9th to 12th features in the `X_mnist` data. The resulting matrix should be a 4 x 4 matrix."
   ]
  },
  {
   "cell_type": "code",
   "execution_count": 4,
   "metadata": {
    "collapsed": true
   },
   "outputs": [],
   "source": [
    "########################################\n",
    "# Start your code here\n",
    "corr = np.corrcoef(X_mnist[:, 8:12].T)\n",
    "########################################"
   ]
  },
  {
   "cell_type": "code",
   "execution_count": 5,
   "metadata": {
    "collapsed": true,
    "nbgrader": {
     "grade": true,
     "grade_id": "p1-2",
     "locked": true,
     "points": "20",
     "solution": false
    }
   },
   "outputs": [],
   "source": [
    "assert corr.shape == (4, 4), \"Wrong dimensions\"\n",
    "assert np.isclose(np.linalg.norm(corr), 2.181790276103041), \"Wrong correlation matrix\""
   ]
  },
  {
   "cell_type": "markdown",
   "metadata": {
    "nbgrader": {
     "grade": false,
     "locked": true,
     "solution": false
    }
   },
   "source": [
    "### 1c: Standardize the features (10 pts)\n",
    "\n",
    "Standardize the 9th to 12th features in the `X_mnist` data and save them to `X_mnist_scaled`."
   ]
  },
  {
   "cell_type": "code",
   "execution_count": 6,
   "metadata": {
    "collapsed": true
   },
   "outputs": [],
   "source": [
    "########################################\n",
    "# Start your code here\n",
    "from sklearn.preprocessing import StandardScaler\n",
    "\n",
    "ss = StandardScaler()\n",
    "X_mnist_scaled = ss.fit_transform(X_mnist[:, 8:12])\n",
    "########################################"
   ]
  },
  {
   "cell_type": "code",
   "execution_count": 7,
   "metadata": {
    "collapsed": true,
    "nbgrader": {
     "grade": true,
     "grade_id": "p1-3",
     "locked": true,
     "points": "10",
     "solution": false
    }
   },
   "outputs": [],
   "source": [
    "assert np.isclose(X_mnist_scaled.mean(), 0), \"not standardized\"\n",
    "assert np.isclose(X_mnist_scaled.std(), 1), \"not standardized\"\n",
    "assert np.isclose(np.linalg.norm(X_mnist_scaled), 84.78207357690678), \"wrong features\""
   ]
  },
  {
   "cell_type": "markdown",
   "metadata": {
    "nbgrader": {
     "grade": false,
     "locked": true,
     "solution": false
    }
   },
   "source": [
    "### 1d: Correlation and regression I (5 pts)\n",
    "\n",
    "The correlation between two given features is numerically equivalent to the regression slope between the standardized features. Let's show this with a simple coding exercise:\n",
    "\n",
    "- Get the correlation between 9th and 11th features from `corr` and save it to `corr_9_11`.\n",
    "- Declare `LinearRegression(fit_intercept = False)` and train the model with the 9th and 11th features as x data and y data, respectively.\n",
    "- Get the regression slope `slope_9_11` from the `LinearRegression` model.\n",
    "- The autograder will test if `corr_9_11` and `slope_9_11` are identical to each other."
   ]
  },
  {
   "cell_type": "code",
   "execution_count": 8,
   "metadata": {},
   "outputs": [],
   "source": [
    "########################################\n",
    "# Start your code here\n",
    "corr_9_11 = corr[0][2]\n",
    "\n",
    "from sklearn.linear_model import LinearRegression\n",
    "lr = LinearRegression(fit_intercept = False)\n",
    "\n",
    "lr.fit(X_mnist_scaled[:, 0].reshape(-1, 1), X_mnist_scaled[:, 2].reshape(-1, 1))\n",
    "slope_9_11 = lr.coef_[0][0]\n",
    "########################################"
   ]
  },
  {
   "cell_type": "code",
   "execution_count": 9,
   "metadata": {
    "nbgrader": {
     "grade": true,
     "grade_id": "p1-4",
     "locked": true,
     "points": "5",
     "solution": false
    }
   },
   "outputs": [],
   "source": [
    "assert np.isclose(corr_9_11, 0.04161298355604604), \"wrong correlation\"\n",
    "assert np.isclose(corr_9_11, slope_9_11), \"wrong regression slope\""
   ]
  },
  {
   "cell_type": "markdown",
   "metadata": {
    "nbgrader": {
     "grade": false,
     "locked": true,
     "solution": false
    }
   },
   "source": [
    "### 1e: Correlation and regression II (5 pts)\n",
    "\n",
    "The value of correlation squared is numerically equivalent to the $\\mathrm{r^2}$ score of a regression model between the two standardized features. You will also show this with a simple coding exercise:\n",
    "\n",
    "- Get the squared-value of correlation between 10th and 12th features from `corr` and save it to `corr_10_12`.\n",
    "- Decaler `LinearRegression(fit_intercept = False)` and train the model with the 10th and 12th features as x data and y data, respectively.\n",
    "- Get the $\\mathrm{r^2}$ `r2_10_12` from the `LinearRegression` model.\n",
    "- The autograder will test if `corr_10_12` and `r2_10_12` are identical to each other."
   ]
  },
  {
   "cell_type": "code",
   "execution_count": 10,
   "metadata": {
    "collapsed": true
   },
   "outputs": [],
   "source": [
    "########################################\n",
    "# Start your code here\n",
    "corr_10_12 = corr[1][3]**2\n",
    "\n",
    "lr.fit(X_mnist_scaled[:, 1].reshape(-1, 1), X_mnist_scaled[:, 3].reshape(-1, 1))\n",
    "r2_10_12 = lr.score(X_mnist_scaled[:, 1].reshape(-1, 1), X_mnist_scaled[:, 3].reshape(-1, 1))\n",
    "########################################"
   ]
  },
  {
   "cell_type": "code",
   "execution_count": 11,
   "metadata": {
    "collapsed": true,
    "nbgrader": {
     "grade": true,
     "grade_id": "p1-5",
     "locked": true,
     "points": "5",
     "solution": false
    }
   },
   "outputs": [],
   "source": [
    "assert np.isclose(corr_10_12, 0.06455652711795277), \"wrong correlation\"\n",
    "assert np.isclose(corr_10_12, r2_10_12), \"wrong r2 score\""
   ]
  },
  {
   "cell_type": "markdown",
   "metadata": {
    "nbgrader": {
     "grade": false,
     "locked": true,
     "solution": false
    }
   },
   "source": [
    "## 2. Kernel PCA (40 pts)\n",
    "\n",
    "Kernel PCA utilizes the eigenvalues and corresponding eigenvectors of a given kernel matrix. Let's make use of the built-in `KernelPCA` module in `scikit-learn` package.\n",
    "\n",
    "### 2a: Import `KernelPCA` (20 pts)\n",
    "\n",
    "Import the `KernelPCA` class from `sklearn.decomposition`."
   ]
  },
  {
   "cell_type": "code",
   "execution_count": 12,
   "metadata": {
    "collapsed": true
   },
   "outputs": [],
   "source": [
    "########################################\n",
    "# Start your code here\n",
    "from sklearn.decomposition import KernelPCA\n",
    "########################################"
   ]
  },
  {
   "cell_type": "code",
   "execution_count": 13,
   "metadata": {
    "collapsed": true,
    "nbgrader": {
     "grade": true,
     "grade_id": "p2-1",
     "locked": true,
     "points": "20",
     "solution": false
    }
   },
   "outputs": [],
   "source": [
    "assert KernelPCA.__init__, \"KernelPCA not imported\""
   ]
  },
  {
   "cell_type": "markdown",
   "metadata": {
    "nbgrader": {
     "grade": false,
     "locked": true,
     "solution": false
    }
   },
   "source": [
    "### 2b: Set the kernel matrix (10 pts)\n",
    "\n",
    "`KernelPCA` object takes `kernel` parameter that defines a kernel that is used for the following PCA. The default option is a `linear` kernel, while, in this problem, you will use a `rbf` kernel which you are very familiar with. Declare a `KernelPCA` object `kpca` with `kernel = 'rbf'`. You do not need to specify any other arguments for this problem."
   ]
  },
  {
   "cell_type": "code",
   "execution_count": 14,
   "metadata": {
    "collapsed": true
   },
   "outputs": [],
   "source": [
    "########################################\n",
    "# Start your code here\n",
    "kpca = KernelPCA(kernel = 'rbf')\n",
    "########################################"
   ]
  },
  {
   "cell_type": "code",
   "execution_count": 15,
   "metadata": {
    "collapsed": true,
    "nbgrader": {
     "grade": true,
     "grade_id": "p2-2",
     "locked": true,
     "points": "10",
     "solution": false
    }
   },
   "outputs": [],
   "source": [
    "assert kpca.kernel == 'rbf', \"wrong kernel\""
   ]
  },
  {
   "cell_type": "markdown",
   "metadata": {
    "nbgrader": {
     "grade": false,
     "locked": true,
     "solution": false
    }
   },
   "source": [
    "### 2c: Eigenvalues (5 pts)\n",
    "\n",
    "Project the `X_mnist` data using `kpca` and save the resulting matrix to `X_mnist_kpca` (you do not need to do any dimensional reduction). Get the eigenvalues of the kernel matrix. It would be helpful to refer to the [official documentation](https://scikit-learn.org/stable/modules/generated/sklearn.decomposition.KernelPCA.html). Report the number of eigenvalues obtained from `kpca` as `num_eigvals`."
   ]
  },
  {
   "cell_type": "code",
   "execution_count": 16,
   "metadata": {
    "collapsed": true
   },
   "outputs": [],
   "source": [
    "########################################\n",
    "# Start your code here\n",
    "X_mnist_kpca = kpca.fit_transform(X_mnist)\n",
    "num_eigvals = kpca.eigenvalues_.shape[0]\n",
    "########################################"
   ]
  },
  {
   "cell_type": "code",
   "execution_count": 17,
   "metadata": {
    "collapsed": true,
    "nbgrader": {
     "grade": true,
     "grade_id": "p2-3",
     "locked": true,
     "points": "5",
     "solution": false
    }
   },
   "outputs": [],
   "source": [
    "assert X_mnist_kpca.shape == (1797, 1796), \"wrong kernel pca\"\n",
    "assert np.isclose(kpca.eigenvalues_[0], 2.3481557275070606), \"wrong kernel pca\"\n",
    "assert np.isclose(num_eigvals * kpca.eigenvalues_[1], 3532.6854240142975), \"wrong num_eigvals\""
   ]
  },
  {
   "cell_type": "markdown",
   "metadata": {
    "nbgrader": {
     "grade": false,
     "locked": true,
     "solution": false
    }
   },
   "source": [
    "### 2d: kPCA Dimensional Reduction (5 pts)\n",
    "\n",
    "Use kernel PCA to project the dataset onto the first two principal components of the kernel PCA matrix. Save the resulting dataset as `X_kpca_2d`.\n",
    "\n",
    "**Hint:** You may need to re-initialize your KernelPCA class."
   ]
  },
  {
   "cell_type": "code",
   "execution_count": 18,
   "metadata": {
    "collapsed": true
   },
   "outputs": [],
   "source": [
    "########################################\n",
    "# Start your code here\n",
    "X_kpca_2d = X_mnist_kpca[:, :2]\n",
    "########################################"
   ]
  },
  {
   "cell_type": "code",
   "execution_count": 19,
   "metadata": {
    "collapsed": true,
    "nbgrader": {
     "grade": true,
     "grade_id": "p2-4",
     "locked": true,
     "points": "5",
     "solution": false
    }
   },
   "outputs": [],
   "source": [
    "assert X_kpca_2d.shape == (1797, 2), \"dimensionality of projection is not correct\"\n",
    "assert np.isclose(np.linalg.norm(X_kpca_2d), 2.0772890492972254), \"projection is not correct\""
   ]
  }
 ],
 "metadata": {
  "kernelspec": {
   "display_name": "Python 3 [3.7]",
   "language": "python",
   "name": "python3"
  },
  "language_info": {
   "codemirror_mode": {
    "name": "ipython",
    "version": 3
   },
   "file_extension": ".py",
   "mimetype": "text/x-python",
   "name": "python",
   "nbconvert_exporter": "python",
   "pygments_lexer": "ipython3",
   "version": "3.7.5"
  }
 },
 "nbformat": 4,
 "nbformat_minor": 2
}
